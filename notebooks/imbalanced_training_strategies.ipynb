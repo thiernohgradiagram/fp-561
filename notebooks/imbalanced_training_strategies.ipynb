{
  "cells": [
    {
      "cell_type": "markdown",
      "id": "aa825a1e",
      "metadata": {
        "id": "aa825a1e"
      },
      "source": [
        "# Handling Imbalanced Data in BirdCLEF Classification\n",
        "\n",
        "This notebook implements various strategies to handle the imbalanced nature of the BirdCLEF dataset. The techniques include:\n",
        "1. Stratified K-Fold Cross-Validation (replacing train/validation/test split)\n",
        "2. Class-Weighted Loss Functions\n",
        "3. Focal Loss Implementation\n",
        "4. Oversampling with WeightedRandomSampler\n",
        "5. Enhanced Data Augmentation for Minority Classes\n",
        "6. Combined Training Pipeline integrating all strategies\n",
        "7. Model Ensemble from different folds for robust predictions"
      ]
    },
    {
      "cell_type": "code",
      "execution_count": 1,
      "id": "e955dbbb",
      "metadata": {
        "colab": {
          "base_uri": "https://localhost:8080/"
        },
        "id": "e955dbbb",
        "outputId": "152d64b1-f628-41d0-a386-42524e7d63e0"
      },
      "outputs": [
        {
          "name": "stdout",
          "output_type": "stream",
          "text": [
            "Drive already mounted at /content/drive; to attempt to forcibly remount, call drive.mount(\"/content/drive\", force_remount=True).\n",
            "Google Drive mounted successfully\n"
          ]
        }
      ],
      "source": [
        "# Mount Google Drive\n",
        "from google.colab import drive\n",
        "drive.mount('/content/drive')\n",
        "print(\"Google Drive mounted successfully\")"
      ]
    },
    {
      "cell_type": "code",
      "execution_count": 2,
      "id": "8a248a50",
      "metadata": {
        "colab": {
          "base_uri": "https://localhost:8080/"
        },
        "id": "8a248a50",
        "outputId": "3b0947f8-94de-41b3-ee37-106b93d3d219"
      },
      "outputs": [
        {
          "name": "stdout",
          "output_type": "stream",
          "text": [
            "Using device: cuda\n"
          ]
        }
      ],
      "source": [
        "# Import required libraries\n",
        "import os\n",
        "import numpy as np\n",
        "import pandas as pd\n",
        "import matplotlib.pyplot as plt\n",
        "import torch\n",
        "import torch.nn as nn\n",
        "import torch.optim as optim\n",
        "import torch.nn.functional as F\n",
        "from torch.utils.data import Dataset, DataLoader, TensorDataset, WeightedRandomSampler\n",
        "from sklearn.model_selection import train_test_split, StratifiedKFold\n",
        "from sklearn.metrics import confusion_matrix, classification_report, roc_auc_score\n",
        "from sklearn.preprocessing import OneHotEncoder\n",
        "from sklearn.utils.class_weight import compute_class_weight\n",
        "from tqdm.notebook import tqdm\n",
        "from torch.amp import autocast, GradScaler  # Updated import path\n",
        "\n",
        "# Set seeds for reproducibility\n",
        "def set_seed(seed=42):\n",
        "    np.random.seed(seed)\n",
        "    torch.manual_seed(seed)\n",
        "    torch.cuda.manual_seed(seed)\n",
        "    torch.backends.cudnn.deterministic = True\n",
        "\n",
        "set_seed()\n",
        "\n",
        "# Check for GPU\n",
        "device = torch.device(\"cuda\" if torch.cuda.is_available() else \"cpu\")\n",
        "print(f\"Using device: {device}\")"
      ]
    },
    {
      "cell_type": "code",
      "execution_count": null,
      "id": "37a08da6",
      "metadata": {},
      "outputs": [],
      "source": [
        "# Configure GPU memory utilization\n",
        "import torch\n",
        "\n",
        "# Check GPU information\n",
        "if torch.cuda.is_available():\n",
        "    print(f\"GPU: {torch.cuda.get_device_name(0)}\")\n",
        "    print(f\"Total GPU Memory: {torch.cuda.get_device_properties(0).total_memory / 1e9:.2f} GB\")\n",
        "    print(f\"Initial Memory Allocated: {torch.cuda.memory_allocated() / 1e9:.2f} GB\")\n",
        "    print(f\"Initial Memory Reserved: {torch.cuda.memory_reserved() / 1e9:.2f} GB\")\n",
        "\n",
        "    # Configure PyTorch to use more GPU memory\n",
        "    torch.backends.cudnn.benchmark = True  # Use cudnn auto-tuner to find fastest algorithm\n",
        "    torch.backends.cudnn.enabled = True\n",
        "    \n",
        "    # More aggressive memory allocation\n",
        "    if hasattr(torch.cuda, 'empty_cache'):\n",
        "        torch.cuda.empty_cache()\n",
        "        \n",
        "    # Allow TF32 precision on Ampere or newer GPUs (much faster with minimal precision loss)\n",
        "    if torch.cuda.get_device_capability()[0] >= 8:\n",
        "        torch.backends.cuda.matmul.allow_tf32 = True\n",
        "        torch.backends.cudnn.allow_tf32 = True\n",
        "    \n",
        "    print(\"GPU configuration completed\")"
      ]
    },
    {
      "cell_type": "markdown",
      "id": "0da6abb5",
      "metadata": {
        "id": "0da6abb5"
      },
      "source": [
        "## Data Loading\n",
        "\n",
        "Load the dataset and check class distribution. In a real scenario, this would involve loading the audio files and extracting features (like mel spectrograms). For this example, we'll assume we have preprocessed features stored in a NumPy array."
      ]
    },
    {
      "cell_type": "code",
      "execution_count": 3,
      "id": "7e197401",
      "metadata": {
        "colab": {
          "base_uri": "https://localhost:8080/"
        },
        "id": "7e197401",
        "outputId": "c1c16052-76d7-49c8-9885-e7ea5f437823"
      },
      "outputs": [
        {
          "name": "stdout",
          "output_type": "stream",
          "text": [
            "Loading precomputed features from /content/drive/MyDrive/bird_features_scratch_copy.npz...\n",
            "Successfully loaded precomputed features!\n",
            "Features shape: (190153, 1, 128, 256)\n",
            "Labels shape: (190153,)\n",
            "Number of unique classes: 206\n"
          ]
        }
      ],
      "source": [
        "# Define paths\n",
        "DATA_PATH = '/content/drive/MyDrive/birdclef-2025-data'  # Adjust paths as needed\n",
        "MODEL_SAVE_DIR = '/content/drive/MyDrive/birdclef-2025-models'\n",
        "PRECOMPUTED_FEATURES_PATH = \"/content/drive/MyDrive/bird_features_scratch_copy.npz\"\n",
        "\n",
        "def load_precomputed_features(local_path=PRECOMPUTED_FEATURES_PATH):\n",
        "    \"\"\"Load precomputed features from Google Drive.\"\"\"\n",
        "    # Check if file exists\n",
        "    if not os.path.exists(local_path):\n",
        "        print(f\"ERROR: Precomputed features file not found at {local_path}\")\n",
        "        return None, None\n",
        "\n",
        "    # Load the features\n",
        "    print(f\"Loading precomputed features from {local_path}...\")\n",
        "    try:\n",
        "        data = np.load(local_path)\n",
        "        X = data['data']\n",
        "        y = data['labels']\n",
        "        print(f\"Successfully loaded precomputed features!\")\n",
        "        print(f\"Features shape: {X.shape}\")\n",
        "        print(f\"Labels shape: {y.shape}\")\n",
        "        print(f\"Number of unique classes: {len(np.unique(y))}\")\n",
        "        return X, y\n",
        "    except Exception as e:\n",
        "        print(f\"Error loading precomputed features: {e}\")\n",
        "        return None, None\n",
        "\n",
        "# Load the precomputed features\n",
        "X, y = load_precomputed_features()"
      ]
    },
    {
      "cell_type": "markdown",
      "id": "1a52832d",
      "metadata": {
        "id": "1a52832d"
      },
      "source": [
        "## Class Distribution Analysis\n",
        "\n",
        "Analyze the imbalance in the class distribution to understand the scale of the problem."
      ]
    },
    {
      "cell_type": "code",
      "execution_count": 4,
      "id": "91fe42c8",
      "metadata": {
        "colab": {
          "base_uri": "https://localhost:8080/",
          "height": 633
        },
        "id": "91fe42c8",
        "outputId": "fced3c1e-4f03-4c87-d259-c7fdf9eb4db2"
      },
      "outputs": [
        {
          "data": {
            "image/png": "[encoded data removed]",
            "text/plain": [
              "<Figure size 1200x600 with 1 Axes>"
            ]
          },
          "metadata": {},
          "output_type": "display_data"
        },
        {
          "name": "stdout",
          "output_type": "stream",
          "text": [
            "Total number of classes: 206\n",
            "Class with most samples: 6130 samples\n",
            "Class with fewest samples: 2 samples\n",
            "Imbalance ratio: 3065.00\n"
          ]
        }
      ],
      "source": [
        "# Count occurrences of each label\n",
        "unique_labels, counts = np.unique(y, return_counts=True)\n",
        "\n",
        "# Visualize class distribution\n",
        "plt.figure(figsize=(12, 6))\n",
        "plt.bar(range(len(counts)), counts)\n",
        "plt.title('Class Distribution in Dataset')\n",
        "plt.xlabel('Class ID')\n",
        "plt.ylabel('Number of Samples')\n",
        "plt.yscale('log')  # Use log scale for better visibility with imbalanced data\n",
        "plt.show()\n",
        "\n",
        "# Print class distribution statistics\n",
        "print(f\"Total number of classes: {len(unique_labels)}\")\n",
        "print(f\"Class with most samples: {np.max(counts)} samples\")\n",
        "print(f\"Class with fewest samples: {np.min(counts)} samples\")\n",
        "print(f\"Imbalance ratio: {np.max(counts) / np.min(counts):.2f}\")\n",
        "\n",
        "# Handle classes with only one sample if any exist\n",
        "if np.any(counts == 1):\n",
        "    print(\"Handling classes with only one sample...\")\n",
        "    # Remove classes with only one sample\n",
        "    valid_indices = np.isin(y, np.where(counts >= 2)[0])\n",
        "    X = X[valid_indices]\n",
        "    y = y[valid_indices]\n",
        "    print(f\"Removed {np.sum(~valid_indices)} samples with singleton classes\")\n",
        "    print(f\"Remaining data shape: {X.shape}\")"
      ]
    },
    {
      "cell_type": "markdown",
      "id": "6c46ff46",
      "metadata": {
        "id": "6c46ff46"
      },
      "source": [
        "## 1. Stratified K-Fold Cross-Validation\n",
        "\n",
        "Set up stratified k-fold cross-validation to ensure all classes are represented in both training and validation sets.\n",
        "Note: We'll adjust the number of folds to handle rare classes that have too few samples."
      ]
    },
    {
      "cell_type": "code",
      "execution_count": 14,
      "id": "124f6785",
      "metadata": {
        "colab": {
          "base_uri": "https://localhost:8080/"
        },
        "id": "124f6785",
        "outputId": "47d9080c-dc19-4590-a6ca-68fc28b57ab5"
      },
      "outputs": [
        {
          "name": "stdout",
          "output_type": "stream",
          "text": [
            "Creating 5 stratified folds...\n",
            "Fold 1:\n",
            "  Training samples: 152122\n",
            "  Validation samples: 38031\n",
            "  Training class count: 206\n",
            "  Validation class count: 204\n",
            "Fold 2:\n",
            "  Training samples: 152122\n",
            "  Validation samples: 38031\n",
            "  Training class count: 206\n",
            "  Validation class count: 205\n",
            "Fold 3:\n",
            "  Training samples: 152122\n",
            "  Validation samples: 38031\n",
            "  Training class count: 206\n",
            "  Validation class count: 204\n",
            "Fold 4:\n",
            "  Training samples: 152123\n",
            "  Validation samples: 38030\n",
            "  Training class count: 206\n",
            "  Validation class count: 204\n",
            "Fold 5:\n",
            "  Training samples: 152123\n",
            "  Validation samples: 38030\n",
            "  Training class count: 206\n",
            "  Validation class count: 204\n",
            "Warning: Fold 1 is missing 2 classes in validation set\n",
            "Warning: Fold 2 is missing 1 classes in validation set\n",
            "Warning: Fold 3 is missing 2 classes in validation set\n",
            "Warning: Fold 4 is missing 2 classes in validation set\n",
            "Warning: Fold 5 is missing 2 classes in validation set\n",
            "Some classes are missing in certain folds. This is expected with very rare classes.\n",
            "Your handling of class imbalance should address this issue.\n"
          ]
        },
        {
          "name": "stderr",
          "output_type": "stream",
          "text": [
            "/usr/local/lib/python3.11/dist-packages/sklearn/model_selection/_split.py:805: UserWarning: The least populated class in y has only 2 members, which is less than n_splits=5.\n",
            "  warnings.warn(\n",
            "/usr/local/lib/python3.11/dist-packages/sklearn/model_selection/_split.py:805: UserWarning: The least populated class in y has only 2 members, which is less than n_splits=5.\n",
            "  warnings.warn(\n"
          ]
        }
      ],
      "source": [
        "# Define number of folds\n",
        "k_folds = 5\n",
        "skf = StratifiedKFold(n_splits=k_folds, shuffle=True, random_state=42)\n",
        "\n",
        "# For storing fold results\n",
        "fold_val_aucs = []\n",
        "fold_models = []\n",
        "\n",
        "# Verify fold distribution\n",
        "print(f\"Creating {k_folds} stratified folds...\")\n",
        "for fold_idx, (train_idx, val_idx) in enumerate(skf.split(X, y)):\n",
        "    train_labels = y[train_idx]\n",
        "    val_labels = y[val_idx]\n",
        "    train_unique, train_counts = np.unique(train_labels, return_counts=True)\n",
        "    val_unique, val_counts = np.unique(val_labels, return_counts=True)\n",
        "\n",
        "    print(f\"Fold {fold_idx+1}:\")\n",
        "    print(f\"  Training samples: {len(train_idx)}\")\n",
        "    print(f\"  Validation samples: {len(val_idx)}\")\n",
        "    print(f\"  Training class count: {len(train_unique)}\")\n",
        "    print(f\"  Validation class count: {len(val_unique)}\")\n",
        "\n",
        "# After creating the folds, verify no classes are missing\n",
        "missing_classes_in_folds = False\n",
        "for fold_idx, (train_idx, val_idx) in enumerate(skf.split(X, y)):\n",
        "    train_labels = y[train_idx]\n",
        "    val_labels = y[val_idx]\n",
        "\n",
        "    # Check for classes missing in training or validation sets\n",
        "    all_classes = set(np.unique(y))\n",
        "    train_classes = set(np.unique(train_labels))\n",
        "    val_classes = set(np.unique(val_labels))\n",
        "\n",
        "    missing_in_train = all_classes - train_classes\n",
        "    missing_in_val = all_classes - val_classes\n",
        "\n",
        "    if missing_in_train:\n",
        "        print(f\"Warning: Fold {fold_idx+1} is missing {len(missing_in_train)} classes in training set\")\n",
        "        missing_classes_in_folds = True\n",
        "\n",
        "    if missing_in_val:\n",
        "        print(f\"Warning: Fold {fold_idx+1} is missing {len(missing_in_val)} classes in validation set\")\n",
        "        missing_classes_in_folds = True\n",
        "\n",
        "if missing_classes_in_folds:\n",
        "    print(\"Some classes are missing in certain folds. This is expected with very rare classes.\")\n",
        "    print(\"Your handling of class imbalance should address this issue.\")\n",
        "\n",
        "# Create a function to get data loaders for a specific fold with weighted sampling\n",
        "def get_fold_loaders(fold_idx, batch_size=32, weighted_sampling=True):\n",
        "    \"\"\"Get training and validation loaders for a specific fold\"\"\"\n",
        "    train_idx, val_idx = list(skf.split(X, y))[fold_idx]\n",
        "\n",
        "    # Split data for this fold\n",
        "    X_train_fold, X_val_fold = X[train_idx], X[val_idx]\n",
        "    y_train_fold, y_val_fold = y[train_idx], y[val_idx]\n",
        "\n",
        "    # Convert to PyTorch tensors\n",
        "    X_train_tensor = torch.tensor(X_train_fold, dtype=torch.float32)\n",
        "    y_train_tensor = torch.tensor(y_train_fold, dtype=torch.long)\n",
        "    X_val_tensor = torch.tensor(X_val_fold, dtype=torch.float32)\n",
        "    y_val_tensor = torch.tensor(y_val_fold, dtype=torch.long)\n",
        "\n",
        "    # Create sampler for balanced training if requested\n",
        "    train_sampler = None\n",
        "    shuffle = True\n",
        "\n",
        "    if weighted_sampling:\n",
        "        class_counts = np.bincount(y_train_fold)\n",
        "        weights = 1.0 / class_counts\n",
        "        sample_weights = weights[y_train_fold]\n",
        "        train_sampler = WeightedRandomSampler(\n",
        "            weights=sample_weights,\n",
        "            num_samples=len(sample_weights),\n",
        "            replacement=True\n",
        "        )\n",
        "        shuffle = False  # Don't shuffle when using sampler\n",
        "\n",
        "    # Create data loaders\n",
        "    train_loader = DataLoader(\n",
        "        TensorDataset(X_train_tensor, y_train_tensor),\n",
        "        batch_size=batch_size,\n",
        "        shuffle=shuffle,\n",
        "        sampler=train_sampler,\n",
        "        num_workers=4,\n",
        "        pin_memory=True\n",
        "    )\n",
        "\n",
        "    val_loader = DataLoader(\n",
        "        TensorDataset(X_val_tensor, y_val_tensor),\n",
        "        batch_size=batch_size,\n",
        "        shuffle=False,\n",
        "        num_workers=4,\n",
        "        pin_memory=True\n",
        "    )\n",
        "\n",
        "    return train_loader, val_loader, train_idx, val_idx"
      ]
    },
    {
      "cell_type": "markdown",
      "id": "181b4b10",
      "metadata": {
        "id": "181b4b10"
      },
      "source": [
        "## 2. Class-Weighted Loss Functions\n",
        "\n",
        "Implement class weighting to give more importance to rare classes during training."
      ]
    },
    {
      "cell_type": "code",
      "execution_count": 6,
      "id": "110edcb5",
      "metadata": {
        "colab": {
          "base_uri": "https://localhost:8080/",
          "height": 581
        },
        "id": "110edcb5",
        "outputId": "92eefa0b-221e-4041-92f0-ec174d464c20"
      },
      "outputs": [
        {
          "data": {
            "image/png": "[encoded data removed]",
            "text/plain": [
              "<Figure size 1200x600 with 1 Axes>"
            ]
          },
          "metadata": {},
          "output_type": "display_data"
        },
        {
          "name": "stdout",
          "output_type": "stream",
          "text": [
            "Created weighted loss function that gives higher importance to rare classes\n"
          ]
        }
      ],
      "source": [
        "# Calculate class weights inversely proportional to class frequencies\n",
        "class_weights = compute_class_weight('balanced', classes=unique_labels, y=y)\n",
        "\n",
        "# Convert to tensor for PyTorch\n",
        "class_weights_tensor = torch.tensor(class_weights, dtype=torch.float32).to(device)\n",
        "\n",
        "# Visualize the weights\n",
        "plt.figure(figsize=(12, 6))\n",
        "plt.bar(range(len(class_weights)), class_weights)\n",
        "plt.title('Class Weights')\n",
        "plt.xlabel('Class ID')\n",
        "plt.ylabel('Weight')\n",
        "plt.show()\n",
        "\n",
        "# Create weighted loss function\n",
        "weighted_criterion = nn.CrossEntropyLoss(weight=class_weights_tensor)\n",
        "print(\"Created weighted loss function that gives higher importance to rare classes\")"
      ]
    },
    {
      "cell_type": "markdown",
      "id": "5e4ff036",
      "metadata": {
        "id": "5e4ff036"
      },
      "source": [
        "## 3. Focal Loss Implementation\n",
        "\n",
        "Focal Loss is designed to address class imbalance by down-weighting the loss assigned to well-classified examples."
      ]
    },
    {
      "cell_type": "code",
      "execution_count": 7,
      "id": "5bba0588",
      "metadata": {
        "colab": {
          "base_uri": "https://localhost:8080/"
        },
        "id": "5bba0588",
        "outputId": "f0587b50-9267-40d5-df6f-8dceb7a35e63"
      },
      "outputs": [
        {
          "name": "stdout",
          "output_type": "stream",
          "text": [
            "Focal Loss created with gamma=2.0 and class weighting\n"
          ]
        }
      ],
      "source": [
        "class FocalLoss(nn.Module):\n",
        "    def __init__(self, gamma=2.0, alpha=None):\n",
        "        super(FocalLoss, self).__init__()\n",
        "        self.gamma = gamma\n",
        "        self.alpha = alpha  # Weight for each class\n",
        "\n",
        "    def forward(self, inputs, targets):\n",
        "        BCE_loss = F.cross_entropy(inputs, targets, reduction='none', weight=self.alpha)\n",
        "        pt = torch.exp(-BCE_loss)  # pt is the probability of the true class\n",
        "        F_loss = (1-pt)**self.gamma * BCE_loss  # Apply focusing parameter\n",
        "        return F_loss.mean()\n",
        "\n",
        "# Create focal loss with class weights\n",
        "focal_criterion = FocalLoss(gamma=2.0, alpha=class_weights_tensor)\n",
        "print(\"Focal Loss created with gamma=2.0 and class weighting\")"
      ]
    },
    {
      "cell_type": "markdown",
      "id": "6b805dc1",
      "metadata": {
        "id": "6b805dc1"
      },
      "source": [
        "## 4. Oversampling with WeightedRandomSampler\n",
        "\n",
        "Implement weighted random sampling to ensure equal representation of all classes during training."
      ]
    },
    {
      "cell_type": "code",
      "execution_count": 8,
      "id": "2f806476",
      "metadata": {
        "colab": {
          "base_uri": "https://localhost:8080/"
        },
        "id": "2f806476",
        "outputId": "a51482a3-4b7c-4690-cd44-60ef8093552f"
      },
      "outputs": [
        {
          "name": "stdout",
          "output_type": "stream",
          "text": [
            "WeightedRandomSampler function created for balanced batch sampling\n"
          ]
        }
      ],
      "source": [
        "def create_weighted_sampler(labels):\n",
        "    \"\"\"Create a weighted sampler to balance class distribution\"\"\"\n",
        "    # Calculate class counts\n",
        "    class_counts = np.bincount(labels)\n",
        "\n",
        "    # Compute sample weights (inverse of class frequency)\n",
        "    weights = 1.0 / class_counts\n",
        "    sample_weights = weights[labels]\n",
        "\n",
        "    # Create sampler with replacement to ensure all classes are equally represented\n",
        "    sampler = WeightedRandomSampler(\n",
        "        weights=sample_weights,\n",
        "        num_samples=len(sample_weights),\n",
        "        replacement=True\n",
        "    )\n",
        "    return sampler\n",
        "\n",
        "# We'll use this function when creating DataLoaders in the training section\n",
        "print(\"WeightedRandomSampler function created for balanced batch sampling\")"
      ]
    },
    {
      "cell_type": "markdown",
      "id": "8112b5fe",
      "metadata": {
        "id": "8112b5fe"
      },
      "source": [
        "## 5. Enhanced Data Augmentation for Minority Classes\n",
        "\n",
        "Create stronger augmentation for minority classes to generate more diverse training examples."
      ]
    },
    {
      "cell_type": "code",
      "execution_count": 9,
      "id": "d48cc5e1",
      "metadata": {
        "colab": {
          "base_uri": "https://localhost:8080/"
        },
        "id": "d48cc5e1",
        "outputId": "54a2333d-1ee3-44d6-c7f9-59180c9b942f"
      },
      "outputs": [
        {
          "name": "stdout",
          "output_type": "stream",
          "text": [
            "Created adaptive augmentation function that applies stronger augmentation to rare classes\n"
          ]
        }
      ],
      "source": [
        "# Implement SpecAugment for frequency and time masking\n",
        "class SpecAugment(nn.Module):\n",
        "    def __init__(self, freq_mask_param=10, time_mask_param=24, num_freq_masks=2, num_time_masks=2):\n",
        "        super(SpecAugment, self).__init__()\n",
        "        self.freq_mask_param = freq_mask_param\n",
        "        self.time_mask_param = time_mask_param\n",
        "        self.num_freq_masks = num_freq_masks\n",
        "        self.num_time_masks = num_time_masks\n",
        "\n",
        "    def forward(self, x):\n",
        "        # x shape: [batch_size, channels, freq, time]\n",
        "        device = x.device\n",
        "        batch_size = x.size(0)\n",
        "        spec_height = x.size(2)  # freq axis\n",
        "        spec_width = x.size(3)   # time axis\n",
        "\n",
        "        # Apply frequency masks\n",
        "        for _ in range(self.num_freq_masks):\n",
        "            for i in range(batch_size):\n",
        "                freq_mask_size = torch.randint(0, self.freq_mask_param, (1,))[0]\n",
        "                if freq_mask_size > 0:\n",
        "                    freq_start = torch.randint(0, spec_height - freq_mask_size, (1,))[0]\n",
        "                    x[i, :, freq_start:freq_start + freq_mask_size, :] = 0\n",
        "\n",
        "        # Apply time masks\n",
        "        for _ in range(self.num_time_masks):\n",
        "            for i in range(batch_size):\n",
        "                time_mask_size = torch.randint(0, self.time_mask_param, (1,))[0]\n",
        "                if time_mask_size > 0:\n",
        "                    time_start = torch.randint(0, spec_width - time_mask_size, (1,))[0]\n",
        "                    x[i, :, :, time_start:time_start + time_mask_size] = 0\n",
        "\n",
        "        return x\n",
        "\n",
        "def adaptive_spec_augment(spectrogram, label, class_counts, rare_threshold=10):\n",
        "    \"\"\"Apply stronger augmentation to rare classes and mild augmentation to common ones.\"\"\"\n",
        "    # Get class frequency\n",
        "    if label >= len(class_counts):\n",
        "        return spectrogram\n",
        "\n",
        "    class_count = class_counts[label]\n",
        "\n",
        "    # Apply stronger augmentation for rare classes\n",
        "    if (class_count < rare_threshold):\n",
        "        # For rare classes, use stronger frequency and time masking\n",
        "        # Create temporary SpecAugment with more aggressive parameters\n",
        "        aggressive_spec_augment = SpecAugment(\n",
        "            freq_mask_param=20,       # Wider frequency masks\n",
        "            time_mask_param=40,       # Wider time masks\n",
        "            num_freq_masks=3,         # More frequency masks\n",
        "            num_time_masks=3          # More time masks\n",
        "        )\n",
        "        return aggressive_spec_augment(spectrogram)\n",
        "    else:\n",
        "        # Use standard augmentation for common classes\n",
        "        standard_spec_augment = SpecAugment(\n",
        "            freq_mask_param=10,\n",
        "            time_mask_param=20,\n",
        "            num_freq_masks=2,\n",
        "            num_time_masks=2\n",
        "        )\n",
        "        return standard_spec_augment(spectrogram)\n",
        "\n",
        "print(\"Created adaptive augmentation function that applies stronger augmentation to rare classes\")"
      ]
    },
    {
      "cell_type": "markdown",
      "id": "a1a6bd52",
      "metadata": {
        "id": "a1a6bd52"
      },
      "source": [
        "## Mixup Data Augmentation\n",
        "\n",
        "Implement mixup augmentation to improve robustness."
      ]
    },
    {
      "cell_type": "code",
      "execution_count": 10,
      "id": "c381679d",
      "metadata": {
        "colab": {
          "base_uri": "https://localhost:8080/"
        },
        "id": "c381679d",
        "outputId": "3b9fb8d1-217a-4359-ff89-93073475a34c"
      },
      "outputs": [
        {
          "name": "stdout",
          "output_type": "stream",
          "text": [
            "Mixup augmentation ready to use with alpha=0.2\n"
          ]
        }
      ],
      "source": [
        "# Implement mixup data augmentation for training\n",
        "def mixup_data(x, y, alpha=0.2):\n",
        "    '''Returns mixed inputs, pairs of targets, and lambda'''\n",
        "    if alpha > 0:\n",
        "        lam = np.random.beta(alpha, alpha)\n",
        "    else:\n",
        "        lam = 1\n",
        "\n",
        "    batch_size = x.size()[0]\n",
        "    index = torch.randperm(batch_size).to(device)\n",
        "\n",
        "    mixed_x = lam * x + (1 - lam) * x[index, :]\n",
        "    y_a, y_b = y, y[index]\n",
        "    return mixed_x, y_a, y_b, lam\n",
        "\n",
        "# Mixup loss function\n",
        "def mixup_criterion(criterion, pred, y_a, y_b, lam):\n",
        "    return lam * criterion(pred, y_a) + (1 - lam) * criterion(pred, y_b)\n",
        "\n",
        "print(\"Mixup augmentation ready to use with alpha=0.2\")"
      ]
    },
    {
      "cell_type": "markdown",
      "id": "76c89b18",
      "metadata": {
        "id": "76c89b18"
      },
      "source": [
        "## Define a CNN Model\n",
        "\n",
        "Define a simple CNN model for the BirdCLEF classification task."
      ]
    },
    {
      "cell_type": "code",
      "execution_count": 11,
      "id": "939eb4ae",
      "metadata": {
        "id": "939eb4ae"
      },
      "outputs": [],
      "source": [
        "class BirdCNN(nn.Module):\n",
        "    def __init__(self, input_channels=1, num_classes=None):\n",
        "        super(BirdCNN, self).__init__()\n",
        "\n",
        "        self.features = nn.Sequential(\n",
        "            # Block 1\n",
        "            nn.Conv2d(input_channels, 64, kernel_size=3, padding=1),\n",
        "            nn.BatchNorm2d(64),\n",
        "            nn.ReLU(),\n",
        "            nn.MaxPool2d(kernel_size=2, stride=2),\n",
        "            nn.Dropout(0.2),\n",
        "\n",
        "            # Block 2\n",
        "            nn.Conv2d(64, 128, kernel_size=3, padding=1),\n",
        "            nn.BatchNorm2d(128),\n",
        "            nn.ReLU(),\n",
        "            nn.MaxPool2d(kernel_size=2, stride=2),\n",
        "            nn.Dropout(0.3),\n",
        "\n",
        "            # Block 3\n",
        "            nn.Conv2d(128, 256, kernel_size=3, padding=1),\n",
        "            nn.BatchNorm2d(256),\n",
        "            nn.ReLU(),\n",
        "            nn.MaxPool2d(kernel_size=2, stride=2),\n",
        "            nn.Dropout(0.4),\n",
        "        )\n",
        "\n",
        "        # Calculate size after convolutions (8x dense size for mel spectrograms 128x256)\n",
        "        self.feature_dims = 256 * 16 * 32  # Channels * Height * Width\n",
        "\n",
        "        self.classifier = nn.Sequential(\n",
        "            nn.Flatten(),\n",
        "            nn.Linear(self.feature_dims, 512),\n",
        "            nn.BatchNorm1d(512),\n",
        "            nn.ReLU(),\n",
        "            nn.Dropout(0.5),\n",
        "            nn.Linear(512, num_classes)\n",
        "        )\n",
        "\n",
        "    def forward(self, x):\n",
        "        x = self.features(x)\n",
        "        x = self.classifier(x)\n",
        "        return x"
      ]
    },
    {
      "cell_type": "markdown",
      "id": "d63c4e89",
      "metadata": {
        "id": "d63c4e89"
      },
      "source": [
        "## 6. Combined Approach: K-Fold Training with All Strategies\n",
        "\n",
        "Now we'll integrate all our strategies into a complete training pipeline."
      ]
    },
    {
      "cell_type": "code",
      "execution_count": null,
      "id": "f5926b6a",
      "metadata": {
        "colab": {
          "base_uri": "https://localhost:8080/"
        },
        "id": "f5926b6a",
        "outputId": "93f1bce1-738b-4e67-e611-0b234414d6f9"
      },
      "outputs": [
        {
          "name": "stdout",
          "output_type": "stream",
          "text": [
            "Full training pipeline with imbalanced data strategies is ready to run.\n"
          ]
        }
      ],
      "source": [
        "# Combined training function for imbalanced data with optimized GPU memory usage\n",
        "def train_with_imbalanced_strategies(model_class, X, y, n_folds=5, num_epochs=50, patience=10):\n",
        "    \"\"\"Train with k-fold CV and all imbalanced data strategies with optimized GPU memory usage\"\"\"\n",
        "    # Limit folds to minimum samples in any class\n",
        "    unique_labels, counts = np.unique(y, return_counts=True)\n",
        "    min_samples = np.min(counts)\n",
        "    n_folds = min(n_folds, min_samples)\n",
        "    print(f\"Using {n_folds} folds (limited by minimum class samples of {min_samples})\")\n",
        "    \n",
        "    # Track results across folds\n",
        "    models = []\n",
        "    fold_val_aucs = []\n",
        "    all_predictions = []\n",
        "    all_true_labels = []\n",
        "    \n",
        "    # Setup stratified k-fold\n",
        "    skf = StratifiedKFold(n_splits=n_folds, shuffle=True, random_state=42)\n",
        "    \n",
        "    # Get class counts for adaptive augmentation\n",
        "    class_counts = np.bincount(y)\n",
        "    \n",
        "    # Configure mixed precision training - ALWAYS use this for optimal GPU memory usage\n",
        "    use_amp = torch.cuda.is_available()\n",
        "    scaler = GradScaler() if use_amp else None\n",
        "    \n",
        "    # Optimize CUDA performance\n",
        "    if use_amp:\n",
        "        # Set memory allocation strategy - aggressive for large models\n",
        "        torch.cuda.empty_cache()\n",
        "        torch.backends.cudnn.benchmark = True\n",
        "        # Print CUDA memory stats before training\n",
        "        print(f\"CUDA Memory before training: {torch.cuda.memory_allocated() / 1e9:.2f} GB allocated, \"\n",
        "              f\"{torch.cuda.memory_reserved() / 1e9:.2f} GB reserved\")\n",
        "    \n",
        "    # Determine optimal batch size based on available GPU memory (much larger)\n",
        "    total_gpu_memory = torch.cuda.get_device_properties(0).total_memory / 1e9 if torch.cuda.is_available() else 0\n",
        "    print(f\"Total GPU Memory: {total_gpu_memory:.2f} GB\")\n",
        "    \n",
        "    # Scale batch size to maximize GPU usage - up to 70% of available memory\n",
        "    # For an 84GB GPU, this should allow ~60GB usage\n",
        "    batch_size = 1024  # Default large batch size\n",
        "    if total_gpu_memory > 40:  # If VRAM > 40GB\n",
        "        batch_size = 2048      # Use very large batch\n",
        "    if total_gpu_memory > 70:  # If VRAM > 70GB (like A100 80GB)\n",
        "        batch_size = 4096      # Use enormous batch size\n",
        "        \n",
        "    print(f\"Using batch size: {batch_size} for optimal GPU memory utilization\")\n",
        "    \n",
        "    # Loop through folds\n",
        "    for fold, (train_idx, val_idx) in enumerate(skf.split(X, y)):\n",
        "        print(f\"\\n{'='*50}\")\n",
        "        print(f\"Training fold {fold+1}/{n_folds}\")\n",
        "        print(f\"{'='*50}\")\n",
        "        \n",
        "        # Split data for this fold\n",
        "        X_train_fold, X_val_fold = X[train_idx], X[val_idx]\n",
        "        y_train_fold, y_val_fold = y[train_idx], y[val_idx]\n",
        "        \n",
        "        # Create tensors with optimized memory usage\n",
        "        X_train_tensor = torch.tensor(X_train_fold, dtype=torch.float32)\n",
        "        y_train_tensor = torch.tensor(y_train_fold, dtype=torch.long)\n",
        "        X_val_tensor = torch.tensor(X_val_fold, dtype=torch.float32)\n",
        "        y_val_tensor = torch.tensor(y_val_fold, dtype=torch.long)\n",
        "        \n",
        "        # Compute class weights for this fold\n",
        "        unique_classes = np.unique(y_train_fold)\n",
        "        class_weights = compute_class_weight('balanced', classes=unique_classes, y=y_train_fold)\n",
        "        \n",
        "        # Map weights to all possible classes\n",
        "        full_class_weights = np.ones(len(np.unique(y)), dtype=np.float32)\n",
        "        for i, cls in enumerate(unique_classes):\n",
        "            full_class_weights[cls] = class_weights[i]\n",
        "            \n",
        "        class_weights_tensor = torch.tensor(full_class_weights, dtype=torch.float32).to(device)\n",
        "        \n",
        "        # Create weighted sampler for this fold's training data\n",
        "        train_sampler = create_weighted_sampler(y_train_fold)\n",
        "        \n",
        "        # Create DataLoaders with much larger batch size and more workers\n",
        "        # This will significantly increase GPU memory usage\n",
        "        train_loader = DataLoader(\n",
        "            TensorDataset(X_train_tensor, y_train_tensor),\n",
        "            batch_size=batch_size,  # Use massive batch size based on available GPU memory\n",
        "            sampler=train_sampler,  # Use weighted sampler instead of shuffle\n",
        "            num_workers=32,         # Increased from 16 to 32\n",
        "            pin_memory=True,\n",
        "            prefetch_factor=4,      # Prefetch 4 batches\n",
        "            persistent_workers=True # Keep workers alive between iterations\n",
        "        )\n",
        "            \n",
        "        val_loader = DataLoader(\n",
        "            TensorDataset(X_val_tensor, y_val_tensor),\n",
        "            batch_size=batch_size,  # Use massive batch size\n",
        "            shuffle=False,\n",
        "            num_workers=32,         # Increased from 16 to 32\n",
        "            pin_memory=True,\n",
        "            prefetch_factor=4,      # Prefetch 4 batches\n",
        "            persistent_workers=True # Keep workers alive between iterations\n",
        "        )\n",
        "            \n",
        "        # Initialize model\n",
        "        num_classes = len(np.unique(y))\n",
        "        model = model_class(input_channels=1, num_classes=num_classes).to(device)\n",
        "        \n",
        "        # Use Focal Loss with class weighting\n",
        "        criterion = FocalLoss(gamma=2.0, alpha=class_weights_tensor)\n",
        "        \n",
        "        # Use higher learning rate with larger batch size\n",
        "        base_lr = 0.001\n",
        "        scaled_lr = base_lr * (batch_size / 256)  # Scale LR based on batch size\n",
        "        print(f\"Using scaled learning rate: {scaled_lr:.5f} (base: {base_lr})\")\n",
        "        optimizer = optim.AdamW(model.parameters(), lr=scaled_lr, weight_decay=0.01)\n",
        "        \n",
        "        # Use aggressive learning rate scheduler\n",
        "        scheduler = optim.lr_scheduler.ReduceLROnPlateau(\n",
        "            optimizer, mode='max', factor=0.5, patience=3, verbose=True\n",
        "        )\n",
        "            \n",
        "        # Training loop for this fold\n",
        "        best_val_auc = 0.0\n",
        "        epochs_without_improvement = 0\n",
        "            \n",
        "        for epoch in range(num_epochs):\n",
        "            # Training phase\n",
        "            model.train()\n",
        "            running_loss = 0.0\n",
        "            correct = 0\n",
        "            total = 0\n",
        "                \n",
        "            # Print GPU usage at the start of each epoch\n",
        "            if use_amp:\n",
        "                print(f\"GPU Memory: {torch.cuda.memory_allocated() / 1e9:.2f} GB allocated, \"\n",
        "                      f\"{torch.cuda.memory_reserved() / 1e9:.2f} GB reserved\")\n",
        "                    \n",
        "            for inputs, labels in tqdm(train_loader, desc=f\"Epoch {epoch+1}/{num_epochs} [Train]\"):\n",
        "                # Move data to GPU in non-blocking way\n",
        "                inputs, labels = inputs.to(device, non_blocking=True), labels.to(device, non_blocking=True)\n",
        "                    \n",
        "                # Apply adaptive augmentation based on class rarity\n",
        "                for i in range(inputs.shape[0]):\n",
        "                    label = labels[i].item()\n",
        "                    inputs[i:i+1] = adaptive_spec_augment(inputs[i:i+1], label, class_counts)\n",
        "                        \n",
        "                # Apply mixup augmentation\n",
        "                inputs, targets_a, targets_b, lam = mixup_data(inputs, labels, alpha=0.2)\n",
        "                    \n",
        "                # Zero gradients\n",
        "                optimizer.zero_grad(set_to_none=True)  # More efficient than zero_grad()\n",
        "                    \n",
        "                # Forward pass with mixed precision\n",
        "                with autocast(enabled=use_amp, device_type='cuda'):\n",
        "                    outputs = model(inputs)\n",
        "                    loss = mixup_criterion(criterion, outputs, targets_a, targets_b, lam)\n",
        "                        \n",
        "                # Backward and optimize with gradient scaling for mixed precision\n",
        "                if use_amp:\n",
        "                    scaler.scale(loss).backward()\n",
        "                    scaler.step(optimizer)\n",
        "                    scaler.update()\n",
        "                else:\n",
        "                    loss.backward()\n",
        "                    optimizer.step()\n",
        "                        \n",
        "                # Statistics\n",
        "                running_loss += loss.item() * inputs.size(0)\n",
        "                _, predicted = torch.max(outputs.data, 1)\n",
        "                total += labels.size(0)\n",
        "                correct += (lam * (predicted == targets_a).float() + (1 - lam) * (predicted == targets_b).float()).sum().item()\n",
        "                    \n",
        "            train_loss = running_loss / total\n",
        "            train_acc = 100 * correct / total\n",
        "                \n",
        "            # Validation phase\n",
        "            model.eval()\n",
        "            val_loss = 0.0\n",
        "            val_correct = 0\n",
        "            val_total = 0\n",
        "            all_outputs = []\n",
        "            all_labels = []\n",
        "                \n",
        "            with torch.no_grad():\n",
        "                for inputs, labels in tqdm(val_loader, desc=f\"Epoch {epoch+1}/{num_epochs} [Val]\"):\n",
        "                    inputs, labels = inputs.to(device, non_blocking=True), labels.to(device, non_blocking=True)\n",
        "                        \n",
        "                    # Forward pass with mixed precision\n",
        "                    with autocast(enabled=use_amp, device_type='cuda'):\n",
        "                        outputs = model(inputs)\n",
        "                        loss = criterion(outputs, labels)\n",
        "                            \n",
        "                    # Statistics\n",
        "                    val_loss += loss.item() * inputs.size(0)\n",
        "                    _, predicted = torch.max(outputs.data, 1)\n",
        "                    val_total += labels.size(0)\n",
        "                    val_correct += (predicted == labels).sum().item()\n",
        "                        \n",
        "                    # Store outputs and labels for ROC-AUC calculation\n",
        "                    all_outputs.append(torch.nn.functional.softmax(outputs, dim=1).cpu().numpy())\n",
        "                    all_labels.append(labels.cpu().numpy())\n",
        "                        \n",
        "            # Calculate validation metrics\n",
        "            val_loss = val_loss / val_total\n",
        "            val_acc = 100 * val_correct / val_total\n",
        "                \n",
        "            # Calculate ROC-AUC\n",
        "            all_outputs = np.concatenate(all_outputs)\n",
        "            all_labels = np.concatenate(all_labels)\n",
        "                \n",
        "            # One-hot encode labels for AUC calculation\n",
        "            encoder = OneHotEncoder(sparse_output=False, categories=[range(num_classes)])\n",
        "            labels_onehot = encoder.fit_transform(all_labels.reshape(-1, 1))\n",
        "                \n",
        "            # Calculate AUC only for present classes\n",
        "            col_sums = labels_onehot.sum(axis=0)\n",
        "            present_classes = np.where(col_sums > 0)[0]\n",
        "                \n",
        "            try:\n",
        "                val_auc = roc_auc_score(\n",
        "                    labels_onehot[:, present_classes],\n",
        "                    all_outputs[:, present_classes],\n",
        "                    multi_class='ovr',\n",
        "                    average='macro'\n",
        "                )\n",
        "            except Exception as e:\n",
        "                print(f\"Error calculating AUC: {e}\")\n",
        "                val_auc = 0.5  # Default value\n",
        "                    \n",
        "            print(f\"Fold {fold+1} - Epoch {epoch+1} - \"\n",
        "                  f\"Train Loss: {train_loss:.4f}, Train Acc: {train_acc:.2f}% - \"\n",
        "                  f\"Val Loss: {val_loss:.4f}, Val Acc: {val_acc:.2f}%, Val AUC: {val_auc:.4f}\")\n",
        "                \n",
        "            # Print GPU memory utilization every epoch\n",
        "            if use_amp:\n",
        "                print(f\"GPU Memory: {torch.cuda.memory_allocated() / 1e9:.2f} GB allocated, \"\n",
        "                      f\"{torch.cuda.memory_reserved() / 1e9:.2f} GB reserved\")\n",
        "                    \n",
        "            # Update learning rate based on validation AUC\n",
        "            scheduler.step(val_auc)\n",
        "                \n",
        "            # Check for improvement\n",
        "            if val_auc > best_val_auc:\n",
        "                best_val_auc = val_auc\n",
        "                epochs_without_improvement = 0\n",
        "                # Save best model for this fold\n",
        "                model_save_path = os.path.join(MODEL_SAVE_DIR, f\"bird_cnn_fold_{fold+1}.pt\")\n",
        "                torch.save(model.state_dict(), model_save_path)\n",
        "                print(f\"New best model for fold {fold+1} with Val AUC: {val_auc:.4f}\")\n",
        "            else:\n",
        "                epochs_without_improvement += 1\n",
        "                if epochs_without_improvement >= patience:\n",
        "                    print(f\"Early stopping on fold {fold+1} after {epoch+1} epochs\")\n",
        "                    break\n",
        "                    \n",
        "        # Free up memory between folds\n",
        "        if use_amp:\n",
        "            torch.cuda.empty_cache()\n",
        "                \n",
        "        # After training fold, load best model and evaluate on validation set\n",
        "        model_load_path = os.path.join(MODEL_SAVE_DIR, f\"bird_cnn_fold_{fold+1}.pt\")\n",
        "        model.load_state_dict(torch.load(model_load_path))\n",
        "        model.eval()\n",
        "                \n",
        "        # Get final predictions for this fold\n",
        "        fold_outputs = []\n",
        "        fold_labels = []\n",
        "                \n",
        "        with torch.no_grad():\n",
        "            for inputs, labels in tqdm(val_loader, desc=f\"Final evaluation of fold {fold+1}\"):\n",
        "                inputs, labels = inputs.to(device, non_blocking=True), labels.to(device, non_blocking=True)\n",
        "                outputs = model(inputs)\n",
        "                probs = torch.nn.functional.softmax(outputs, dim=1)\n",
        "                fold_outputs.append(probs.cpu().numpy())\n",
        "                fold_labels.append(labels.cpu().numpy())\n",
        "                    \n",
        "        fold_outputs = np.concatenate(fold_outputs)\n",
        "        fold_labels = np.concatenate(fold_labels)\n",
        "                \n",
        "        # Store results\n",
        "        fold_val_aucs.append(best_val_auc)\n",
        "        all_predictions.append(fold_outputs)\n",
        "        all_true_labels.append(fold_labels)\n",
        "        models.append(model)\n",
        "                \n",
        "        print(f\"Completed fold {fold+1} with best AUC: {best_val_auc:.4f}\")\n",
        "                \n",
        "    # Calculate overall performance\n",
        "    mean_auc = np.mean(fold_val_aucs)\n",
        "    std_auc = np.std(fold_val_aucs)\n",
        "                \n",
        "    print(f\"\\n{'='*50}\")\n",
        "    print(f\"Cross-validation completed:\")\n",
        "    print(f\"Mean ROC-AUC: {mean_auc:.4f} ± {std_auc:.4f}\")\n",
        "    print(f\"Fold AUCs: {fold_val_aucs}\")\n",
        "    print(f\"{'='*50}\")\n",
        "                \n",
        "    return {\n",
        "        'models': models,\n",
        "        'fold_aucs': fold_val_aucs,\n",
        "        'mean_auc': mean_auc,\n",
        "        'std_auc': std_auc,\n",
        "        'predictions': all_predictions,\n",
        "        'true_labels': all_true_labels\n",
        "    }\n",
        "                \n",
        "print(\"Full training pipeline with imbalanced data strategies is ready to run with enhanced GPU memory usage.\")"
      ]
    },
    {
      "cell_type": "markdown",
      "id": "8b2843fe",
      "metadata": {
        "id": "8b2843fe"
      },
      "source": [
        "## 7. Run the Complete Training Pipeline\n",
        "\n",
        "Now we'll execute the full training pipeline with all our strategies for handling imbalanced data."
      ]
    },
    {
      "cell_type": "code",
      "execution_count": 13,
      "id": "bd27c5a8",
      "metadata": {
        "colab": {
          "base_uri": "https://localhost:8080/",
          "height": 558,
          "referenced_widgets": [
            "f488547ff3c0495398050561ccc4607c",
            "584bfa84e4904340835484bac7bce695",
            "6447a8783ab7460ebda8084b711e85e2",
            "f7cb6328ad3b4198890e23d4917a8805",
            "be64467c866840e4948bc2aef9d37ecc",
            "c2df1701b30e4c2bb6b8f77ed9927604",
            "4c89465d58e64730beb21c964ce6ab16",
            "5a9a9089e4014f42b94242672f5863f4",
            "7b45332615cd4eb194216a31f0c00b32",
            "66b50f8a171b4e2eba1356c417d7bdf0",
            "2335072338ee45fdbb6c1d9206b2b616"
          ]
        },
        "id": "bd27c5a8",
        "outputId": "304d1305-6ff4-4524-db45-a62c04cb20d7"
      },
      "outputs": [
        {
          "name": "stdout",
          "output_type": "stream",
          "text": [
            "Using 2 folds (limited by minimum class samples of 2)\n",
            "CUDA Memory before training: 0.00 GB allocated, 0.00 GB reserved\n",
            "\n",
            "==================================================\n",
            "Training fold 1/2\n",
            "==================================================\n"
          ]
        },
        {
          "name": "stderr",
          "output_type": "stream",
          "text": [
            "/usr/local/lib/python3.11/dist-packages/torch/utils/data/dataloader.py:624: UserWarning: This DataLoader will create 16 worker processes in total. Our suggested max number of worker in current system is 12, which is smaller than what this DataLoader is going to create. Please be aware that excessive worker creation might get DataLoader running slow or even freeze, lower the worker number to avoid potential slowness/freeze if necessary.\n",
            "  warnings.warn(\n"
          ]
        },
        {
          "data": {
            "application/vnd.jupyter.widget-view+json": {
              "model_id": "f488547ff3c0495398050561ccc4607c",
              "version_major": 2,
              "version_minor": 0
            },
            "text/plain": [
              "Epoch 1/30 [Train]:   0%|          | 0/372 [00:00<?, ?it/s]"
            ]
          },
          "metadata": {},
          "output_type": "display_data"
        },
        {
          "name": "stderr",
          "output_type": "stream",
          "text": [
            "/usr/local/lib/python3.11/dist-packages/torch/utils/data/dataloader.py:624: UserWarning: This DataLoader will create 16 worker processes in total. Our suggested max number of worker in current system is 12, which is smaller than what this DataLoader is going to create. Please be aware that excessive worker creation might get DataLoader running slow or even freeze, lower the worker number to avoid potential slowness/freeze if necessary.\n",
            "  warnings.warn(\n"
          ]
        },
        {
          "ename": "TypeError",
          "evalue": "autocast.__init__() missing 1 required positional argument: 'device_type'",
          "output_type": "error",
          "traceback": [
            "\u001b[0;31m---------------------------------------------------------------------------\u001b[0m",
            "\u001b[0;31mTypeError\u001b[0m                                 Traceback (most recent call last)",
            "\u001b[0;32m<ipython-input-13-6d7ed3eab90d>\u001b[0m in \u001b[0;36m<cell line: 0>\u001b[0;34m()\u001b[0m\n\u001b[1;32m      1\u001b[0m \u001b[0;31m# Run the full training pipeline with BirdCNN model\u001b[0m\u001b[0;34m\u001b[0m\u001b[0;34m\u001b[0m\u001b[0m\n\u001b[0;32m----> 2\u001b[0;31m cv_results = train_with_imbalanced_strategies(\n\u001b[0m\u001b[1;32m      3\u001b[0m     \u001b[0mmodel_class\u001b[0m\u001b[0;34m=\u001b[0m\u001b[0mBirdCNN\u001b[0m\u001b[0;34m,\u001b[0m  \u001b[0;31m# Using the defined CNN model\u001b[0m\u001b[0;34m\u001b[0m\u001b[0;34m\u001b[0m\u001b[0m\n\u001b[1;32m      4\u001b[0m     \u001b[0mX\u001b[0m\u001b[0;34m=\u001b[0m\u001b[0mX\u001b[0m\u001b[0;34m,\u001b[0m\u001b[0;34m\u001b[0m\u001b[0;34m\u001b[0m\u001b[0m\n\u001b[1;32m      5\u001b[0m     \u001b[0my\u001b[0m\u001b[0;34m=\u001b[0m\u001b[0my\u001b[0m\u001b[0;34m,\u001b[0m\u001b[0;34m\u001b[0m\u001b[0;34m\u001b[0m\u001b[0m\n",
            "\u001b[0;32m<ipython-input-12-8863e331c3ba>\u001b[0m in \u001b[0;36mtrain_with_imbalanced_strategies\u001b[0;34m(model_class, X, y, n_folds, num_epochs, patience)\u001b[0m\n\u001b[1;32m    117\u001b[0m \u001b[0;34m\u001b[0m\u001b[0m\n\u001b[1;32m    118\u001b[0m                 \u001b[0;31m# Forward pass with mixed precision\u001b[0m\u001b[0;34m\u001b[0m\u001b[0;34m\u001b[0m\u001b[0m\n\u001b[0;32m--> 119\u001b[0;31m                 \u001b[0;32mwith\u001b[0m \u001b[0mautocast\u001b[0m\u001b[0;34m(\u001b[0m\u001b[0menabled\u001b[0m\u001b[0;34m=\u001b[0m\u001b[0muse_amp\u001b[0m\u001b[0;34m)\u001b[0m\u001b[0;34m:\u001b[0m\u001b[0;34m\u001b[0m\u001b[0;34m\u001b[0m\u001b[0m\n\u001b[0m\u001b[1;32m    120\u001b[0m                     \u001b[0moutputs\u001b[0m \u001b[0;34m=\u001b[0m \u001b[0mmodel\u001b[0m\u001b[0;34m(\u001b[0m\u001b[0minputs\u001b[0m\u001b[0;34m)\u001b[0m\u001b[0;34m\u001b[0m\u001b[0;34m\u001b[0m\u001b[0m\n\u001b[1;32m    121\u001b[0m                     \u001b[0mloss\u001b[0m \u001b[0;34m=\u001b[0m \u001b[0mmixup_criterion\u001b[0m\u001b[0;34m(\u001b[0m\u001b[0mcriterion\u001b[0m\u001b[0;34m,\u001b[0m \u001b[0moutputs\u001b[0m\u001b[0;34m,\u001b[0m \u001b[0mtargets_a\u001b[0m\u001b[0;34m,\u001b[0m \u001b[0mtargets_b\u001b[0m\u001b[0;34m,\u001b[0m \u001b[0mlam\u001b[0m\u001b[0;34m)\u001b[0m\u001b[0;34m\u001b[0m\u001b[0;34m\u001b[0m\u001b[0m\n",
            "\u001b[0;31mTypeError\u001b[0m: autocast.__init__() missing 1 required positional argument: 'device_type'"
          ]
        }
      ],
      "source": [
        "# Run the full training pipeline with BirdCNN model\n",
        "cv_results = train_with_imbalanced_strategies(\n",
        "    model_class=BirdCNN,  # Using the defined CNN model\n",
        "    X=X,\n",
        "    y=y,\n",
        "    n_folds=5,\n",
        "    num_epochs=30,  # Adjust based on your computational resources\n",
        "    patience=10\n",
        ")"
      ]
    },
    {
      "cell_type": "markdown",
      "id": "cca8c07f",
      "metadata": {
        "id": "cca8c07f"
      },
      "source": [
        "## 8. Ensemble Models from Different Folds\n",
        "\n",
        "Create an ensemble of models from different folds for better predictions."
      ]
    },
    {
      "cell_type": "code",
      "execution_count": null,
      "id": "d633b29e",
      "metadata": {
        "id": "d633b29e"
      },
      "outputs": [],
      "source": [
        "# Create an ensemble prediction function\n",
        "def ensemble_predict(models, X_test):\n",
        "    \"\"\"Make predictions using an ensemble of models from different folds\"\"\"\n",
        "    X_test_tensor = torch.tensor(X_test, dtype=torch.float32)\n",
        "    test_dataset = TensorDataset(X_test_tensor)\n",
        "    test_loader = DataLoader(test_dataset, batch_size=32, shuffle=False)\n",
        "\n",
        "    # Store all model predictions\n",
        "    all_model_preds = []\n",
        "\n",
        "    # Get predictions from each model\n",
        "    for i, model in enumerate(models):\n",
        "        model.eval()\n",
        "        model_preds = []\n",
        "\n",
        "        with torch.no_grad():\n",
        "            for (inputs,) in tqdm(test_loader, desc=f\"Predicting with model {i+1}\"):\n",
        "                inputs = inputs.to(device)\n",
        "                outputs = model(inputs)\n",
        "                probs = torch.nn.functional.softmax(outputs, dim=1)\n",
        "                model_preds.append(probs.cpu().numpy())\n",
        "\n",
        "        model_preds = np.concatenate(model_preds)\n",
        "        all_model_preds.append(model_preds)\n",
        "\n",
        "    # Average predictions from all models\n",
        "    ensemble_preds = np.mean(all_model_preds, axis=0)\n",
        "    return ensemble_preds\n",
        "\n",
        "# Get predictions using the ensemble (demonstration with validation data from first fold)\n",
        "if 'models' in cv_results:\n",
        "    print(\"Ensemble model ready for prediction.\")"
      ]
    },
    {
      "cell_type": "markdown",
      "id": "324fc7c7",
      "metadata": {
        "id": "324fc7c7"
      },
      "source": [
        "## 9. Save the Final Ensemble Model\n",
        "\n",
        "Save the ensemble model and weights for future use or submission."
      ]
    },
    {
      "cell_type": "code",
      "execution_count": null,
      "id": "33030119",
      "metadata": {
        "id": "33030119"
      },
      "outputs": [],
      "source": [
        "# Save the ensemble model\n",
        "if 'models' in cv_results:\n",
        "    ensemble_save = {\n",
        "        'model_states': [model.state_dict() for model in cv_results['models']],\n",
        "        'model_architecture': 'BirdCNN',\n",
        "        'fold_aucs': cv_results['fold_aucs'],\n",
        "        'mean_auc': cv_results['mean_auc'],\n",
        "        'feature_params': {\n",
        "            'target_shape': (128, 256),\n",
        "            'sr': 32000,\n",
        "            'n_mels': 128,\n",
        "            'fmin': 500,\n",
        "            'fmax': 15000\n",
        "        },\n",
        "        'class_mapping': {idx: f\"class_{idx}\" for idx in range(len(np.unique(y)))}\n",
        "    }\n",
        "\n",
        "    model_save_path = os.path.join(MODEL_SAVE_DIR, 'bird_cnn_ensemble_balanced.pth')\n",
        "    torch.save(ensemble_save, model_save_path)\n",
        "    print(f\"Saved ensemble model to {model_save_path}\")"
      ]
    },
    {
      "cell_type": "markdown",
      "id": "44d44829",
      "metadata": {
        "id": "44d44829"
      },
      "source": [
        "## 10. Visualize Results by Class\n",
        "\n",
        "Analyze how our imbalanced data strategies performed on different classes."
      ]
    },
    {
      "cell_type": "code",
      "execution_count": null,
      "id": "11be5d8c",
      "metadata": {
        "id": "11be5d8c"
      },
      "outputs": [],
      "source": [
        "# Analyze performance by class frequency\n",
        "if 'models' in cv_results and len(cv_results['predictions']) > 0:\n",
        "    # Choose a fold for evaluation (usually the fold with the highest AUC)\n",
        "    best_fold_idx = np.argmax(cv_results['fold_aucs'])\n",
        "    best_fold_preds = cv_results['predictions'][best_fold_idx]\n",
        "    best_fold_labels = cv_results['true_labels'][best_fold_idx]\n",
        "\n",
        "    # Calculate per-class metrics\n",
        "    from sklearn.metrics import precision_recall_fscore_support\n",
        "\n",
        "    # Convert probabilities to class predictions\n",
        "    predicted_classes = np.argmax(best_fold_preds, axis=1)\n",
        "\n",
        "    # Get class-wise precision, recall, and F1 scores\n",
        "    precision, recall, f1, support = precision_recall_fscore_support(\n",
        "        best_fold_labels, predicted_classes, average=None, zero_division=0\n",
        "    )\n",
        "\n",
        "    # Get class frequencies in training data\n",
        "    class_counts = np.bincount(y)\n",
        "\n",
        "    # Create dataframe for visualization\n",
        "    import pandas as pd\n",
        "    metrics_df = pd.DataFrame({\n",
        "        'Class': [f\"class_{i}\" for i in range(len(precision))],\n",
        "        'Precision': precision,\n",
        "        'Recall': recall,\n",
        "        'F1 Score': f1,\n",
        "        'Support': support,\n",
        "        'Training Examples': [class_counts[i] if i < len(class_counts) else 0 for i in range(len(precision))]\n",
        "    })\n",
        "\n",
        "    # Sort by number of training examples (ascending)\n",
        "    metrics_df = metrics_df.sort_values('Training Examples')\n",
        "\n",
        "    # Plot relationship between class frequency and performance\n",
        "    plt.figure(figsize=(14, 8))\n",
        "\n",
        "    # Scatter plot of F1 score vs. number of training examples\n",
        "    plt.scatter(metrics_df['Training Examples'], metrics_df['F1 Score'], alpha=0.6)\n",
        "    plt.xscale('log')  # Log scale for better visualization\n",
        "    plt.xlabel('Number of Training Examples (log scale)')\n",
        "    plt.ylabel('F1 Score')\n",
        "    plt.title('F1 Score vs. Class Frequency')\n",
        "\n",
        "    # Add trend line\n",
        "    from scipy import stats\n",
        "    if len(metrics_df) > 1:  # Need at least 2 points for regression\n",
        "        x = np.log10(metrics_df['Training Examples'].replace(0, 1))  # Replace 0 with 1 for log\n",
        "        y = metrics_df['F1 Score']\n",
        "        slope, intercept, r_value, p_value, std_err = stats.linregress(x, y)\n",
        "        x_pred = np.linspace(min(x), max(x), 100)\n",
        "        y_pred = slope * x_pred + intercept\n",
        "        plt.plot(10**x_pred, y_pred, 'r--', label=f'Trend line (r={r_value:.2f})')\n",
        "        plt.legend()\n",
        "\n",
        "    plt.grid(True, alpha=0.3)\n",
        "    plt.show()\n",
        "\n",
        "    # Display metrics for rare classes (10 or fewer examples)\n",
        "    rare_classes = metrics_df[metrics_df['Training Examples'] <= 10]\n",
        "    print(\"Performance on rare classes (≤10 examples):\")\n",
        "    print(rare_classes[['Class', 'Precision', 'Recall', 'F1 Score', 'Training Examples']])\n",
        "\n",
        "    # Display metrics for common classes (100+ examples)\n",
        "    common_classes = metrics_df[metrics_df['Training Examples'] > 100]\n",
        "    print(\"\\nPerformance on common classes (>100 examples):\")\n",
        "    print(common_classes[['Class', 'Precision', 'Recall', 'F1 Score', 'Training Examples']].head())"
      ]
    },
    {
      "cell_type": "code",
      "execution_count": null,
      "id": "948a52f3",
      "metadata": {},
      "outputs": [],
      "source": [
        "class BirdCNN_Large(nn.Module):\n",
        "    \"\"\"A much larger CNN model to better utilize available GPU memory\"\"\"\n",
        "    def __init__(self, input_channels=1, num_classes=None):\n",
        "        super(BirdCNN_Large, self).__init__()\n",
        "\n",
        "        # Much larger feature extractor with more channels\n",
        "        self.features = nn.Sequential(\n",
        "            # Block 1 - 64->128 channels\n",
        "            nn.Conv2d(input_channels, 128, kernel_size=3, padding=1),\n",
        "            nn.BatchNorm2d(128),\n",
        "            nn.ReLU(),\n",
        "            nn.Conv2d(128, 128, kernel_size=3, padding=1),\n",
        "            nn.BatchNorm2d(128),\n",
        "            nn.ReLU(),\n",
        "            nn.MaxPool2d(kernel_size=2, stride=2),\n",
        "            nn.Dropout(0.2),\n",
        "\n",
        "            # Block 2 - 128->256 channels\n",
        "            nn.Conv2d(128, 256, kernel_size=3, padding=1),\n",
        "            nn.BatchNorm2d(256),\n",
        "            nn.ReLU(),\n",
        "            nn.Conv2d(256, 256, kernel_size=3, padding=1),\n",
        "            nn.BatchNorm2d(256),\n",
        "            nn.ReLU(),\n",
        "            nn.MaxPool2d(kernel_size=2, stride=2),\n",
        "            nn.Dropout(0.3),\n",
        "\n",
        "            # Block 3 - 256->512 channels\n",
        "            nn.Conv2d(256, 512, kernel_size=3, padding=1),\n",
        "            nn.BatchNorm2d(512),\n",
        "            nn.ReLU(),\n",
        "            nn.Conv2d(512, 512, kernel_size=3, padding=1),\n",
        "            nn.BatchNorm2d(512),\n",
        "            nn.ReLU(),\n",
        "            nn.MaxPool2d(kernel_size=2, stride=2),\n",
        "            nn.Dropout(0.4),\n",
        "            \n",
        "            # Block 4 - 512->1024 channels (much more GPU-intensive)\n",
        "            nn.Conv2d(512, 768, kernel_size=3, padding=1),\n",
        "            nn.BatchNorm2d(768),\n",
        "            nn.ReLU(),\n",
        "            nn.Conv2d(768, 768, kernel_size=3, padding=1),\n",
        "            nn.BatchNorm2d(768),\n",
        "            nn.ReLU(),\n",
        "            nn.MaxPool2d(kernel_size=2, stride=2),\n",
        "            nn.Dropout(0.4),\n",
        "        )\n",
        "        \n",
        "        # Calculate size after convolutions (based on input spectrogram size)\n",
        "        self.feature_dims = 768 * 8 * 16  # Channels * Height * Width\n",
        "        \n",
        "        # Much larger fully connected layers\n",
        "        self.classifier = nn.Sequential(\n",
        "            nn.Flatten(),\n",
        "            nn.Linear(self.feature_dims, 2048),  # 4x larger than original\n",
        "            nn.BatchNorm1d(2048),\n",
        "            nn.ReLU(),\n",
        "            nn.Dropout(0.5),\n",
        "            nn.Linear(2048, 1024),\n",
        "            nn.BatchNorm1d(1024),\n",
        "            nn.ReLU(),\n",
        "            nn.Dropout(0.5),\n",
        "            nn.Linear(1024, num_classes)\n",
        "        )\n",
        "    \n",
        "    def forward(self, x):\n",
        "        x = self.features(x)\n",
        "        x = self.classifier(x)\n",
        "        return x\n",
        "\n",
        "# Print model sizes to compare memory usage\n",
        "if torch.cuda.is_available():\n",
        "    num_classes = 206  # From your dataset\n",
        "    \n",
        "    # Create models\n",
        "    small_model = BirdCNN(input_channels=1, num_classes=num_classes).to(device)\n",
        "    large_model = BirdCNN_Large(input_channels=1, num_classes=num_classes).to(device)\n",
        "    \n",
        "    # Count parameters\n",
        "    small_params = sum(p.numel() for p in small_model.parameters())\n",
        "    large_params = sum(p.numel() for p in large_model.parameters())\n",
        "    \n",
        "    print(f\"Original BirdCNN parameters: {small_params:,}\")\n",
        "    print(f\"BirdCNN_Large parameters: {large_params:,}\")\n",
        "    print(f\"Size increase: {large_params/small_params:.1f}x more parameters\")\n",
        "    \n",
        "    # Free memory\n",
        "    del small_model\n",
        "    del large_model\n",
        "    torch.cuda.empty_cache()"
      ]
    },
    {
      "cell_type": "code",
      "execution_count": null,
      "id": "4b0e9af7",
      "metadata": {},
      "outputs": [],
      "source": [
        "# Run the full training pipeline with much larger BirdCNN_Large model to utilize more GPU memory\n",
        "print(\"Starting training with BirdCNN_Large which will utilize much more GPU memory...\")\n",
        "\n",
        "# Set seed again for reproducibility\n",
        "set_seed(42)\n",
        "\n",
        "# Run training with the larger model\n",
        "cv_results_large = train_with_imbalanced_strategies(\n",
        "    model_class=BirdCNN_Large,  # Using the larger CNN model\n",
        "    X=X,\n",
        "    y=y,\n",
        "    n_folds=3,  # Using fewer folds to make each fold use more memory\n",
        "    num_epochs=30,\n",
        "    patience=8\n",
        ")"
      ]
    }
  ],
  "metadata": {
    "accelerator": "GPU",
    "colab": {
      "gpuType": "A100",
      "provenance": []
    },
    "kernelspec": {
      "display_name": "Python 3",
      "name": "python3"
    },
    "language_info": {
      "name": "python"
    },
    "widgets": {
      "application/vnd.jupyter.widget-state+json": {
        "2335072338ee45fdbb6c1d9206b2b616": {
          "model_module": "@jupyter-widgets/controls",
          "model_module_version": "1.5.0",
          "model_name": "DescriptionStyleModel",
          "state": {
            "_model_module": "@jupyter-widgets/controls",
            "_model_module_version": "1.5.0",
            "_model_name": "DescriptionStyleModel",
            "_view_count": null,
            "_view_module": "@jupyter-widgets/base",
            "_view_module_version": "1.2.0",
            "_view_name": "StyleView",
            "description_width": ""
          }
        },
        "4c89465d58e64730beb21c964ce6ab16": {
          "model_module": "@jupyter-widgets/controls",
          "model_module_version": "1.5.0",
          "model_name": "DescriptionStyleModel",
          "state": {
            "_model_module": "@jupyter-widgets/controls",
            "_model_module_version": "1.5.0",
            "_model_name": "DescriptionStyleModel",
            "_view_count": null,
            "_view_module": "@jupyter-widgets/base",
            "_view_module_version": "1.2.0",
            "_view_name": "StyleView",
            "description_width": ""
          }
        },
        "584bfa84e4904340835484bac7bce695": {
          "model_module": "@jupyter-widgets/controls",
          "model_module_version": "1.5.0",
          "model_name": "HTMLModel",
          "state": {
            "_dom_classes": [],
            "_model_module": "@jupyter-widgets/controls",
            "_model_module_version": "1.5.0",
            "_model_name": "HTMLModel",
            "_view_count": null,
            "_view_module": "@jupyter-widgets/controls",
            "_view_module_version": "1.5.0",
            "_view_name": "HTMLView",
            "description": "",
            "description_tooltip": null,
            "layout": "IPY_MODEL_c2df1701b30e4c2bb6b8f77ed9927604",
            "placeholder": "​",
            "style": "IPY_MODEL_4c89465d58e64730beb21c964ce6ab16",
            "value": "Epoch 1/30 [Train]:   0%"
          }
        },
        "5a9a9089e4014f42b94242672f5863f4": {
          "model_module": "@jupyter-widgets/base",
          "model_module_version": "1.2.0",
          "model_name": "LayoutModel",
          "state": {
            "_model_module": "@jupyter-widgets/base",
            "_model_module_version": "1.2.0",
            "_model_name": "LayoutModel",
            "_view_count": null,
            "_view_module": "@jupyter-widgets/base",
            "_view_module_version": "1.2.0",
            "_view_name": "LayoutView",
            "align_content": null,
            "align_items": null,
            "align_self": null,
            "border": null,
            "bottom": null,
            "display": null,
            "flex": null,
            "flex_flow": null,
            "grid_area": null,
            "grid_auto_columns": null,
            "grid_auto_flow": null,
            "grid_auto_rows": null,
            "grid_column": null,
            "grid_gap": null,
            "grid_row": null,
            "grid_template_areas": null,
            "grid_template_columns": null,
            "grid_template_rows": null,
            "height": null,
            "justify_content": null,
            "justify_items": null,
            "left": null,
            "margin": null,
            "max_height": null,
            "max_width": null,
            "min_height": null,
            "min_width": null,
            "object_fit": null,
            "object_position": null,
            "order": null,
            "overflow": null,
            "overflow_x": null,
            "overflow_y": null,
            "padding": null,
            "right": null,
            "top": null,
            "visibility": null,
            "width": null
          }
        },
        "6447a8783ab7460ebda8084b711e85e2": {
          "model_module": "@jupyter-widgets/controls",
          "model_module_version": "1.5.0",
          "model_name": "FloatProgressModel",
          "state": {
            "_dom_classes": [],
            "_model_module": "@jupyter-widgets/controls",
            "_model_module_version": "1.5.0",
            "_model_name": "FloatProgressModel",
            "_view_count": null,
            "_view_module": "@jupyter-widgets/controls",
            "_view_module_version": "1.5.0",
            "_view_name": "ProgressView",
            "bar_style": "danger",
            "description": "",
            "description_tooltip": null,
            "layout": "IPY_MODEL_5a9a9089e4014f42b94242672f5863f4",
            "max": 372,
            "min": 0,
            "orientation": "horizontal",
            "style": "IPY_MODEL_7b45332615cd4eb194216a31f0c00b32",
            "value": 0
          }
        },
        "66b50f8a171b4e2eba1356c417d7bdf0": {
          "model_module": "@jupyter-widgets/base",
          "model_module_version": "1.2.0",
          "model_name": "LayoutModel",
          "state": {
            "_model_module": "@jupyter-widgets/base",
            "_model_module_version": "1.2.0",
            "_model_name": "LayoutModel",
            "_view_count": null,
            "_view_module": "@jupyter-widgets/base",
            "_view_module_version": "1.2.0",
            "_view_name": "LayoutView",
            "align_content": null,
            "align_items": null,
            "align_self": null,
            "border": null,
            "bottom": null,
            "display": null,
            "flex": null,
            "flex_flow": null,
            "grid_area": null,
            "grid_auto_columns": null,
            "grid_auto_flow": null,
            "grid_auto_rows": null,
            "grid_column": null,
            "grid_gap": null,
            "grid_row": null,
            "grid_template_areas": null,
            "grid_template_columns": null,
            "grid_template_rows": null,
            "height": null,
            "justify_content": null,
            "justify_items": null,
            "left": null,
            "margin": null,
            "max_height": null,
            "max_width": null,
            "min_height": null,
            "min_width": null,
            "object_fit": null,
            "object_position": null,
            "order": null,
            "overflow": null,
            "overflow_x": null,
            "overflow_y": null,
            "padding": null,
            "right": null,
            "top": null,
            "visibility": null,
            "width": null
          }
        },
        "7b45332615cd4eb194216a31f0c00b32": {
          "model_module": "@jupyter-widgets/controls",
          "model_module_version": "1.5.0",
          "model_name": "ProgressStyleModel",
          "state": {
            "_model_module": "@jupyter-widgets/controls",
            "_model_module_version": "1.5.0",
            "_model_name": "ProgressStyleModel",
            "_view_count": null,
            "_view_module": "@jupyter-widgets/base",
            "_view_module_version": "1.2.0",
            "_view_name": "StyleView",
            "bar_color": null,
            "description_width": ""
          }
        },
        "be64467c866840e4948bc2aef9d37ecc": {
          "model_module": "@jupyter-widgets/base",
          "model_module_version": "1.2.0",
          "model_name": "LayoutModel",
          "state": {
            "_model_module": "@jupyter-widgets/base",
            "_model_module_version": "1.2.0",
            "_model_name": "LayoutModel",
            "_view_count": null,
            "_view_module": "@jupyter-widgets/base",
            "_view_module_version": "1.2.0",
            "_view_name": "LayoutView",
            "align_content": null,
            "align_items": null,
            "align_self": null,
            "border": null,
            "bottom": null,
            "display": null,
            "flex": null,
            "flex_flow": null,
            "grid_area": null,
            "grid_auto_columns": null,
            "grid_auto_flow": null,
            "grid_auto_rows": null,
            "grid_column": null,
            "grid_gap": null,
            "grid_row": null,
            "grid_template_areas": null,
            "grid_template_columns": null,
            "grid_template_rows": null,
            "height": null,
            "justify_content": null,
            "justify_items": null,
            "left": null,
            "margin": null,
            "max_height": null,
            "max_width": null,
            "min_height": null,
            "min_width": null,
            "object_fit": null,
            "object_position": null,
            "order": null,
            "overflow": null,
            "overflow_x": null,
            "overflow_y": null,
            "padding": null,
            "right": null,
            "top": null,
            "visibility": null,
            "width": null
          }
        },
        "c2df1701b30e4c2bb6b8f77ed9927604": {
          "model_module": "@jupyter-widgets/base",
          "model_module_version": "1.2.0",
          "model_name": "LayoutModel",
          "state": {
            "_model_module": "@jupyter-widgets/base",
            "_model_module_version": "1.2.0",
            "_model_name": "LayoutModel",
            "_view_count": null,
            "_view_module": "@jupyter-widgets/base",
            "_view_module_version": "1.2.0",
            "_view_name": "LayoutView",
            "align_content": null,
            "align_items": null,
            "align_self": null,
            "border": null,
            "bottom": null,
            "display": null,
            "flex": null,
            "flex_flow": null,
            "grid_area": null,
            "grid_auto_columns": null,
            "grid_auto_flow": null,
            "grid_auto_rows": null,
            "grid_column": null,
            "grid_gap": null,
            "grid_row": null,
            "grid_template_areas": null,
            "grid_template_columns": null,
            "grid_template_rows": null,
            "height": null,
            "justify_content": null,
            "justify_items": null,
            "left": null,
            "margin": null,
            "max_height": null,
            "max_width": null,
            "min_height": null,
            "min_width": null,
            "object_fit": null,
            "object_position": null,
            "order": null,
            "overflow": null,
            "overflow_x": null,
            "overflow_y": null,
            "padding": null,
            "right": null,
            "top": null,
            "visibility": null,
            "width": null
          }
        },
        "f488547ff3c0495398050561ccc4607c": {
          "model_module": "@jupyter-widgets/controls",
          "model_module_version": "1.5.0",
          "model_name": "HBoxModel",
          "state": {
            "_dom_classes": [],
            "_model_module": "@jupyter-widgets/controls",
            "_model_module_version": "1.5.0",
            "_model_name": "HBoxModel",
            "_view_count": null,
            "_view_module": "@jupyter-widgets/controls",
            "_view_module_version": "1.5.0",
            "_view_name": "HBoxView",
            "box_style": "",
            "children": [
              "IPY_MODEL_584bfa84e4904340835484bac7bce695",
              "IPY_MODEL_6447a8783ab7460ebda8084b711e85e2",
              "IPY_MODEL_f7cb6328ad3b4198890e23d4917a8805"
            ],
            "layout": "IPY_MODEL_be64467c866840e4948bc2aef9d37ecc"
          }
        },
        "f7cb6328ad3b4198890e23d4917a8805": {
          "model_module": "@jupyter-widgets/controls",
          "model_module_version": "1.5.0",
          "model_name": "HTMLModel",
          "state": {
            "_dom_classes": [],
            "_model_module": "@jupyter-widgets/controls",
            "_model_module_version": "1.5.0",
            "_model_name": "HTMLModel",
            "_view_count": null,
            "_view_module": "@jupyter-widgets/controls",
            "_view_module_version": "1.5.0",
            "_view_name": "HTMLView",
            "description": "",
            "description_tooltip": null,
            "layout": "IPY_MODEL_66b50f8a171b4e2eba1356c417d7bdf0",
            "placeholder": "​",
            "style": "IPY_MODEL_2335072338ee45fdbb6c1d9206b2b616",
            "value": " 0/372 [00:05&lt;?, ?it/s]"
          }
        }
      }
    }
  },
  "nbformat": 4,
  "nbformat_minor": 5
}
